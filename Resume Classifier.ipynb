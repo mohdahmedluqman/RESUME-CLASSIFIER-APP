{
 "cells": [
  {
   "cell_type": "code",
   "execution_count": 3,
   "id": "6edd3175-50d8-4d06-9b6b-88b669562628",
   "metadata": {},
   "outputs": [],
   "source": [
    "import streamlit as st"
   ]
  },
  {
   "cell_type": "code",
   "execution_count": 2,
   "id": "150a0298-ccf6-4e30-be35-c21a3a5b25ad",
   "metadata": {},
   "outputs": [],
   "source": [
    "import pickle\n",
    "import re\n",
    "import nltk\n",
    "import PyPDF2\n"
   ]
  },
  {
   "cell_type": "code",
   "execution_count": null,
   "id": "8a64be73-3744-4e93-b0f8-3484cae91ca4",
   "metadata": {},
   "outputs": [],
   "source": [
    "from sklearn.feature_extraction.text import TfidfVectorizer\n",
    "\n",
    "# Download stopwords (only first time)\n",
    "nltk.download('stopwords')\n",
    "from nltk.corpus import stopwords\n",
    "\n",
    "# Load pre-trained model and vectorizer\n",
    "model = pickle.load(open(\"resume_model.pkl\", \"rb\"))\n",
    "tfidf = pickle.load(open(\"tfidf_vectorizer.pkl\", \"rb\"))\n",
    "\n",
    "# Clean text function\n",
    "def clean_text(text):\n",
    "    text = re.sub(r'\\W', ' ', text)\n",
    "    text = re.sub(r'\\s+[a-zA-Z]\\s+', ' ', text)\n",
    "    text = re.sub(r'\\s+', ' ', text)\n",
    "    return text.lower()"
   ]
  },
  {
   "cell_type": "code",
   "execution_count": 7,
   "id": "101f8e74-c523-47da-854c-0d99a7307302",
   "metadata": {},
   "outputs": [
    {
     "name": "stdout",
     "output_type": "stream",
     "text": [
      "Model and vectorizer saved as 'resume_model.pkl' and 'tfidf_vectorizer.pkl'\n"
     ]
    }
   ],
   "source": [
    "import pickle\n",
    "from sklearn.feature_extraction.text import TfidfVectorizer\n",
    "from sklearn.linear_model import LogisticRegression\n",
    "\n",
    "# Sample training data\n",
    "texts = [\n",
    "    \"Python developer with experience in Django\",\n",
    "    \"Machine learning and data science\",\n",
    "    \"Sales executive in FMCG sector\",\n",
    "    \"Customer support representative\",\n",
    "    \"Software engineer working on Java backend\",\n",
    "    \"Marketing specialist with SEO knowledge\"\n",
    "]\n",
    "labels = [1, 1, 0, 0, 1, 0]  # 1 = tech, 0 = non-tech\n",
    "\n",
    "# Create TF-IDF vectorizer and transform texts\n",
    "tfidf = TfidfVectorizer(stop_words='english')\n",
    "X = tfidf.fit_transform(texts)\n",
    "\n",
    "# Train a simple model\n",
    "model = LogisticRegression()\n",
    "model.fit(X, labels)\n",
    "\n",
    "# Save model and vectorizer\n",
    "with open(\"resume_model.pkl\", \"wb\") as f:\n",
    "    pickle.dump(model, f)\n",
    "\n",
    "with open(\"tfidf_vectorizer.pkl\", \"wb\") as f:\n",
    "    pickle.dump(tfidf, f)\n",
    "\n",
    "print(\"Model and vectorizer saved as 'resume_model.pkl' and 'tfidf_vectorizer.pkl'\")\n"
   ]
  },
  {
   "cell_type": "code",
   "execution_count": 12,
   "id": "c70c7e8b-61a9-47d1-a593-9a15e93d8087",
   "metadata": {},
   "outputs": [
    {
     "name": "stdout",
     "output_type": "stream",
     "text": [
      "         ID                                         Resume_str  \\\n",
      "0  16852973           HR ADMINISTRATOR/MARKETING ASSOCIATE\\...   \n",
      "1  22323967           HR SPECIALIST, US HR OPERATIONS      ...   \n",
      "2  33176873           HR DIRECTOR       Summary      Over 2...   \n",
      "3  27018550           HR SPECIALIST       Summary    Dedica...   \n",
      "4  17812897           HR MANAGER         Skill Highlights  ...   \n",
      "\n",
      "                                         Resume_html Category  \n",
      "0  <div class=\"fontsize fontface vmargins hmargin...       HR  \n",
      "1  <div class=\"fontsize fontface vmargins hmargin...       HR  \n",
      "2  <div class=\"fontsize fontface vmargins hmargin...       HR  \n",
      "3  <div class=\"fontsize fontface vmargins hmargin...       HR  \n",
      "4  <div class=\"fontsize fontface vmargins hmargin...       HR  \n"
     ]
    }
   ],
   "source": [
    "import pandas as pd\n",
    "\n",
    "df = pd.read_csv(\"Updateresume.csv\")\n",
    "print(df.head())\n"
   ]
  },
  {
   "cell_type": "code",
   "execution_count": 19,
   "id": "ea359a2f-5675-4dcf-9ea9-c5fd90701353",
   "metadata": {},
   "outputs": [
    {
     "name": "stderr",
     "output_type": "stream",
     "text": [
      "[nltk_data] Downloading package stopwords to\n",
      "[nltk_data]     C:\\Users\\rushi\\AppData\\Roaming\\nltk_data...\n",
      "[nltk_data]   Package stopwords is already up-to-date!\n"
     ]
    }
   ],
   "source": [
    "import pandas as pd\n",
    "import re\n",
    "import nltk\n",
    "from nltk.corpus import stopwords\n",
    "from sklearn.feature_extraction.text import TfidfVectorizer\n",
    "from sklearn.linear_model import LogisticRegression\n",
    "from sklearn.model_selection import train_test_split\n",
    "import pickle\n",
    "\n",
    "nltk.download('stopwords')\n",
    "\n",
    "# Load data\n",
    "df = pd.read_csv(\"UpdatedResumeDataSet.csv\")\n",
    "\n",
    "# Clean function\n",
    "def clean_text(text):\n",
    "    text = re.sub(r'\\W', ' ', text)\n",
    "    text = re.sub(r'\\s+[a-zA-Z]\\s+', ' ', text)\n",
    "    text = re.sub(r'\\s+', ' ', text)\n",
    "    return text.lower()\n",
    "\n",
    "df['Cleaned_Resume'] = df['Resume_str'].apply(clean_text)\n",
    "\n",
    "# Vectorize\n",
    "tfidf = TfidfVectorizer(max_features=1500)\n",
    "X = tfidf.fit_transform(df['Cleaned_Resume']).toarray()\n",
    "y = df['Category']\n",
    "\n",
    "# Train model\n",
    "X_train, X_test, y_train, y_test = train_test_split(X, y, test_size=0.2, random_state=42)\n",
    "model = LogisticRegression()\n",
    "model.fit(X_train, y_train)\n",
    "\n",
    "# Save\n",
    "pickle.dump(model, open(\"resume_model.pkl\", \"wb\"))\n",
    "pickle.dump(tfidf, open(\"tfidf_vectorizer.pkl\", \"wb\"))\n"
   ]
  },
  {
   "cell_type": "code",
   "execution_count": 20,
   "id": "07f1ca00-a1d4-49c3-95c2-e088ae756d21",
   "metadata": {},
   "outputs": [
    {
     "name": "stdout",
     "output_type": "stream",
     "text": [
      "['a', 'about', 'above', 'after', 'again', 'against', 'ain', 'all', 'am', 'an']\n"
     ]
    }
   ],
   "source": [
    "from nltk.corpus import stopwords\n",
    "\n",
    "# Print the first 10 stopwords\n",
    "print(stopwords.words('english')[:10])\n"
   ]
  },
  {
   "cell_type": "code",
   "execution_count": 21,
   "id": "2af02d23-6afa-4695-9353-7229e8938ec6",
   "metadata": {},
   "outputs": [
    {
     "data": {
      "text/html": [
       "<div>\n",
       "<style scoped>\n",
       "    .dataframe tbody tr th:only-of-type {\n",
       "        vertical-align: middle;\n",
       "    }\n",
       "\n",
       "    .dataframe tbody tr th {\n",
       "        vertical-align: top;\n",
       "    }\n",
       "\n",
       "    .dataframe thead th {\n",
       "        text-align: right;\n",
       "    }\n",
       "</style>\n",
       "<table border=\"1\" class=\"dataframe\">\n",
       "  <thead>\n",
       "    <tr style=\"text-align: right;\">\n",
       "      <th></th>\n",
       "      <th>Resume_str</th>\n",
       "      <th>Cleaned_Resume</th>\n",
       "    </tr>\n",
       "  </thead>\n",
       "  <tbody>\n",
       "    <tr>\n",
       "      <th>0</th>\n",
       "      <td>HR ADMINISTRATOR/MARKETING ASSOCIATE\\...</td>\n",
       "      <td>hr administrator marketing associate hr admin...</td>\n",
       "    </tr>\n",
       "    <tr>\n",
       "      <th>1</th>\n",
       "      <td>HR SPECIALIST, US HR OPERATIONS      ...</td>\n",
       "      <td>hr specialist us hr operations summary versat...</td>\n",
       "    </tr>\n",
       "    <tr>\n",
       "      <th>2</th>\n",
       "      <td>HR DIRECTOR       Summary      Over 2...</td>\n",
       "      <td>hr director summary over 20 years experience ...</td>\n",
       "    </tr>\n",
       "    <tr>\n",
       "      <th>3</th>\n",
       "      <td>HR SPECIALIST       Summary    Dedica...</td>\n",
       "      <td>hr specialist summary dedicated driven and dy...</td>\n",
       "    </tr>\n",
       "    <tr>\n",
       "      <th>4</th>\n",
       "      <td>HR MANAGER         Skill Highlights  ...</td>\n",
       "      <td>hr manager skill highlights hr skills hr depa...</td>\n",
       "    </tr>\n",
       "  </tbody>\n",
       "</table>\n",
       "</div>"
      ],
      "text/plain": [
       "                                          Resume_str  \\\n",
       "0           HR ADMINISTRATOR/MARKETING ASSOCIATE\\...   \n",
       "1           HR SPECIALIST, US HR OPERATIONS      ...   \n",
       "2           HR DIRECTOR       Summary      Over 2...   \n",
       "3           HR SPECIALIST       Summary    Dedica...   \n",
       "4           HR MANAGER         Skill Highlights  ...   \n",
       "\n",
       "                                      Cleaned_Resume  \n",
       "0   hr administrator marketing associate hr admin...  \n",
       "1   hr specialist us hr operations summary versat...  \n",
       "2   hr director summary over 20 years experience ...  \n",
       "3   hr specialist summary dedicated driven and dy...  \n",
       "4   hr manager skill highlights hr skills hr depa...  "
      ]
     },
     "execution_count": 21,
     "metadata": {},
     "output_type": "execute_result"
    }
   ],
   "source": [
    "# Show the cleaned resumes\n",
    "df[['Resume_str', 'Cleaned_Resume']].head()\n"
   ]
  },
  {
   "cell_type": "code",
   "execution_count": null,
   "id": "fa474924-1b1c-434b-a09a-52fbb893f6b1",
   "metadata": {},
   "outputs": [],
   "source": []
  }
 ],
 "metadata": {
  "kernelspec": {
   "display_name": "Python 3 (ipykernel)",
   "language": "python",
   "name": "python3"
  },
  "language_info": {
   "codemirror_mode": {
    "name": "ipython",
    "version": 3
   },
   "file_extension": ".py",
   "mimetype": "text/x-python",
   "name": "python",
   "nbconvert_exporter": "python",
   "pygments_lexer": "ipython3",
   "version": "3.12.10"
  }
 },
 "nbformat": 4,
 "nbformat_minor": 5
}
